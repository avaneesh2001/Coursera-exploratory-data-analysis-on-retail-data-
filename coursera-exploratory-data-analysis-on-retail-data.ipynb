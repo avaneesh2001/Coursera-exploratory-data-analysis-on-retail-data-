{
 "cells": [
  {
   "cell_type": "markdown",
   "id": "26a75b8b",
   "metadata": {
    "papermill": {
     "duration": 0.010759,
     "end_time": "2023-06-24T18:09:23.938047",
     "exception": false,
     "start_time": "2023-06-24T18:09:23.927288",
     "status": "completed"
    },
    "tags": []
   },
   "source": [
    "# Portfolio Project: Online Retail Exploratory Data Analysis with Python"
   ]
  },
  {
   "cell_type": "code",
   "execution_count": 1,
   "id": "5911c769",
   "metadata": {
    "execution": {
     "iopub.execute_input": "2023-06-24T18:09:23.957428Z",
     "iopub.status.busy": "2023-06-24T18:09:23.957078Z",
     "iopub.status.idle": "2023-06-24T18:09:25.263673Z",
     "shell.execute_reply": "2023-06-24T18:09:25.262960Z"
    },
    "papermill": {
     "duration": 1.319288,
     "end_time": "2023-06-24T18:09:25.265752",
     "exception": false,
     "start_time": "2023-06-24T18:09:23.946464",
     "status": "completed"
    },
    "tags": []
   },
   "outputs": [],
   "source": [
    "import pandas as pd\n",
    "import numpy as np\n",
    "import seaborn as sns                       #visualisation\n",
    "import matplotlib.pyplot as plt             #visualisation\n",
    "%matplotlib inline     \n",
    "sns.set(color_codes=True)"
   ]
  },
  {
   "cell_type": "markdown",
   "id": "af6637ad",
   "metadata": {
    "papermill": {
     "duration": 0.007929,
     "end_time": "2023-06-24T18:09:25.282322",
     "exception": false,
     "start_time": "2023-06-24T18:09:25.274393",
     "status": "completed"
    },
    "tags": []
   },
   "source": [
    "#### Load Data"
   ]
  },
  {
   "cell_type": "code",
   "execution_count": 2,
   "id": "7055de52",
   "metadata": {
    "execution": {
     "iopub.execute_input": "2023-06-24T18:09:25.300459Z",
     "iopub.status.busy": "2023-06-24T18:09:25.299755Z",
     "iopub.status.idle": "2023-06-24T18:10:28.483433Z",
     "shell.execute_reply": "2023-06-24T18:10:28.482463Z"
    },
    "papermill": {
     "duration": 63.203512,
     "end_time": "2023-06-24T18:10:28.493970",
     "exception": false,
     "start_time": "2023-06-24T18:09:25.290458",
     "status": "completed"
    },
    "tags": []
   },
   "outputs": [
    {
     "data": {
      "text/html": [
       "<div>\n",
       "<style scoped>\n",
       "    .dataframe tbody tr th:only-of-type {\n",
       "        vertical-align: middle;\n",
       "    }\n",
       "\n",
       "    .dataframe tbody tr th {\n",
       "        vertical-align: top;\n",
       "    }\n",
       "\n",
       "    .dataframe thead th {\n",
       "        text-align: right;\n",
       "    }\n",
       "</style>\n",
       "<table border=\"1\" class=\"dataframe\">\n",
       "  <thead>\n",
       "    <tr style=\"text-align: right;\">\n",
       "      <th></th>\n",
       "      <th>InvoiceNo</th>\n",
       "      <th>StockCode</th>\n",
       "      <th>Description</th>\n",
       "      <th>Quantity</th>\n",
       "      <th>InvoiceDate</th>\n",
       "      <th>UnitPrice</th>\n",
       "      <th>CustomerID</th>\n",
       "      <th>Country</th>\n",
       "    </tr>\n",
       "  </thead>\n",
       "  <tbody>\n",
       "    <tr>\n",
       "      <th>0</th>\n",
       "      <td>536365</td>\n",
       "      <td>85123A</td>\n",
       "      <td>WHITE HANGING HEART T-LIGHT HOLDER</td>\n",
       "      <td>6</td>\n",
       "      <td>2010-12-01 08:26:00</td>\n",
       "      <td>2.55</td>\n",
       "      <td>17850.0</td>\n",
       "      <td>United Kingdom</td>\n",
       "    </tr>\n",
       "    <tr>\n",
       "      <th>1</th>\n",
       "      <td>536365</td>\n",
       "      <td>71053</td>\n",
       "      <td>WHITE METAL LANTERN</td>\n",
       "      <td>6</td>\n",
       "      <td>2010-12-01 08:26:00</td>\n",
       "      <td>3.39</td>\n",
       "      <td>17850.0</td>\n",
       "      <td>United Kingdom</td>\n",
       "    </tr>\n",
       "    <tr>\n",
       "      <th>2</th>\n",
       "      <td>536365</td>\n",
       "      <td>84406B</td>\n",
       "      <td>CREAM CUPID HEARTS COAT HANGER</td>\n",
       "      <td>8</td>\n",
       "      <td>2010-12-01 08:26:00</td>\n",
       "      <td>2.75</td>\n",
       "      <td>17850.0</td>\n",
       "      <td>United Kingdom</td>\n",
       "    </tr>\n",
       "    <tr>\n",
       "      <th>3</th>\n",
       "      <td>536365</td>\n",
       "      <td>84029G</td>\n",
       "      <td>KNITTED UNION FLAG HOT WATER BOTTLE</td>\n",
       "      <td>6</td>\n",
       "      <td>2010-12-01 08:26:00</td>\n",
       "      <td>3.39</td>\n",
       "      <td>17850.0</td>\n",
       "      <td>United Kingdom</td>\n",
       "    </tr>\n",
       "    <tr>\n",
       "      <th>4</th>\n",
       "      <td>536365</td>\n",
       "      <td>84029E</td>\n",
       "      <td>RED WOOLLY HOTTIE WHITE HEART.</td>\n",
       "      <td>6</td>\n",
       "      <td>2010-12-01 08:26:00</td>\n",
       "      <td>3.39</td>\n",
       "      <td>17850.0</td>\n",
       "      <td>United Kingdom</td>\n",
       "    </tr>\n",
       "  </tbody>\n",
       "</table>\n",
       "</div>"
      ],
      "text/plain": [
       "  InvoiceNo StockCode                          Description  Quantity  \\\n",
       "0    536365    85123A   WHITE HANGING HEART T-LIGHT HOLDER         6   \n",
       "1    536365     71053                  WHITE METAL LANTERN         6   \n",
       "2    536365    84406B       CREAM CUPID HEARTS COAT HANGER         8   \n",
       "3    536365    84029G  KNITTED UNION FLAG HOT WATER BOTTLE         6   \n",
       "4    536365    84029E       RED WOOLLY HOTTIE WHITE HEART.         6   \n",
       "\n",
       "          InvoiceDate  UnitPrice  CustomerID         Country  \n",
       "0 2010-12-01 08:26:00       2.55     17850.0  United Kingdom  \n",
       "1 2010-12-01 08:26:00       3.39     17850.0  United Kingdom  \n",
       "2 2010-12-01 08:26:00       2.75     17850.0  United Kingdom  \n",
       "3 2010-12-01 08:26:00       3.39     17850.0  United Kingdom  \n",
       "4 2010-12-01 08:26:00       3.39     17850.0  United Kingdom  "
      ]
     },
     "execution_count": 2,
     "metadata": {},
     "output_type": "execute_result"
    }
   ],
   "source": [
    "df = pd.read_excel(\"/kaggle/input/coursera-eda-on-retail-data/Online Retail.xlsx\")\n",
    "df.head()"
   ]
  },
  {
   "cell_type": "markdown",
   "id": "d622e467",
   "metadata": {
    "papermill": {
     "duration": 0.008154,
     "end_time": "2023-06-24T18:10:28.510459",
     "exception": false,
     "start_time": "2023-06-24T18:10:28.502305",
     "status": "completed"
    },
    "tags": []
   },
   "source": [
    "#### Data Cleaning"
   ]
  },
  {
   "cell_type": "code",
   "execution_count": 3,
   "id": "9429e557",
   "metadata": {
    "execution": {
     "iopub.execute_input": "2023-06-24T18:10:28.529280Z",
     "iopub.status.busy": "2023-06-24T18:10:28.528720Z",
     "iopub.status.idle": "2023-06-24T18:10:28.536463Z",
     "shell.execute_reply": "2023-06-24T18:10:28.535503Z"
    },
    "papermill": {
     "duration": 0.019249,
     "end_time": "2023-06-24T18:10:28.538186",
     "exception": false,
     "start_time": "2023-06-24T18:10:28.518937",
     "status": "completed"
    },
    "tags": []
   },
   "outputs": [
    {
     "data": {
      "text/plain": [
       "InvoiceNo              object\n",
       "StockCode              object\n",
       "Description            object\n",
       "Quantity                int64\n",
       "InvoiceDate    datetime64[ns]\n",
       "UnitPrice             float64\n",
       "CustomerID            float64\n",
       "Country                object\n",
       "dtype: object"
      ]
     },
     "execution_count": 3,
     "metadata": {},
     "output_type": "execute_result"
    }
   ],
   "source": [
    "df.dtypes"
   ]
  },
  {
   "cell_type": "markdown",
   "id": "62cd98c3",
   "metadata": {
    "papermill": {
     "duration": 0.008412,
     "end_time": "2023-06-24T18:10:28.555585",
     "exception": false,
     "start_time": "2023-06-24T18:10:28.547173",
     "status": "completed"
    },
    "tags": []
   },
   "source": [
    "#### Droping unwanted columns"
   ]
  },
  {
   "cell_type": "code",
   "execution_count": 4,
   "id": "c7507d85",
   "metadata": {
    "execution": {
     "iopub.execute_input": "2023-06-24T18:10:28.575861Z",
     "iopub.status.busy": "2023-06-24T18:10:28.575509Z",
     "iopub.status.idle": "2023-06-24T18:10:28.601555Z",
     "shell.execute_reply": "2023-06-24T18:10:28.600218Z"
    },
    "papermill": {
     "duration": 0.038893,
     "end_time": "2023-06-24T18:10:28.603759",
     "exception": false,
     "start_time": "2023-06-24T18:10:28.564866",
     "status": "completed"
    },
    "tags": []
   },
   "outputs": [],
   "source": [
    "df = df.drop(['InvoiceNo'], axis=1)\n"
   ]
  },
  {
   "cell_type": "code",
   "execution_count": 5,
   "id": "31d6fd05",
   "metadata": {
    "execution": {
     "iopub.execute_input": "2023-06-24T18:10:28.623431Z",
     "iopub.status.busy": "2023-06-24T18:10:28.623057Z",
     "iopub.status.idle": "2023-06-24T18:10:28.633465Z",
     "shell.execute_reply": "2023-06-24T18:10:28.632105Z"
    },
    "papermill": {
     "duration": 0.022284,
     "end_time": "2023-06-24T18:10:28.635299",
     "exception": false,
     "start_time": "2023-06-24T18:10:28.613015",
     "status": "completed"
    },
    "tags": []
   },
   "outputs": [
    {
     "data": {
      "text/html": [
       "<div>\n",
       "<style scoped>\n",
       "    .dataframe tbody tr th:only-of-type {\n",
       "        vertical-align: middle;\n",
       "    }\n",
       "\n",
       "    .dataframe tbody tr th {\n",
       "        vertical-align: top;\n",
       "    }\n",
       "\n",
       "    .dataframe thead th {\n",
       "        text-align: right;\n",
       "    }\n",
       "</style>\n",
       "<table border=\"1\" class=\"dataframe\">\n",
       "  <thead>\n",
       "    <tr style=\"text-align: right;\">\n",
       "      <th></th>\n",
       "      <th>StockCode</th>\n",
       "      <th>Description</th>\n",
       "      <th>Quantity</th>\n",
       "      <th>InvoiceDate</th>\n",
       "      <th>UnitPrice</th>\n",
       "      <th>CustomerID</th>\n",
       "      <th>Country</th>\n",
       "    </tr>\n",
       "  </thead>\n",
       "  <tbody>\n",
       "  </tbody>\n",
       "</table>\n",
       "</div>"
      ],
      "text/plain": [
       "Empty DataFrame\n",
       "Columns: [StockCode, Description, Quantity, InvoiceDate, UnitPrice, CustomerID, Country]\n",
       "Index: []"
      ]
     },
     "execution_count": 5,
     "metadata": {},
     "output_type": "execute_result"
    }
   ],
   "source": [
    "df.head(0)"
   ]
  },
  {
   "cell_type": "markdown",
   "id": "6d733c92",
   "metadata": {
    "papermill": {
     "duration": 0.009517,
     "end_time": "2023-06-24T18:10:28.653988",
     "exception": false,
     "start_time": "2023-06-24T18:10:28.644471",
     "status": "completed"
    },
    "tags": []
   },
   "source": [
    "#### Removing duplicates"
   ]
  },
  {
   "cell_type": "code",
   "execution_count": 6,
   "id": "c4229516",
   "metadata": {
    "execution": {
     "iopub.execute_input": "2023-06-24T18:10:28.673130Z",
     "iopub.status.busy": "2023-06-24T18:10:28.672758Z",
     "iopub.status.idle": "2023-06-24T18:10:28.876327Z",
     "shell.execute_reply": "2023-06-24T18:10:28.875106Z"
    },
    "papermill": {
     "duration": 0.215222,
     "end_time": "2023-06-24T18:10:28.878068",
     "exception": false,
     "start_time": "2023-06-24T18:10:28.662846",
     "status": "completed"
    },
    "tags": []
   },
   "outputs": [
    {
     "name": "stdout",
     "output_type": "stream",
     "text": [
      "number of duplicate rows:  (5848, 7)\n"
     ]
    }
   ],
   "source": [
    "duplicate_rows_df = df[df.duplicated()]\n",
    "print(\"number of duplicate rows: \", duplicate_rows_df.shape)"
   ]
  },
  {
   "cell_type": "code",
   "execution_count": 7,
   "id": "5a7bc050",
   "metadata": {
    "execution": {
     "iopub.execute_input": "2023-06-24T18:10:28.897157Z",
     "iopub.status.busy": "2023-06-24T18:10:28.896736Z",
     "iopub.status.idle": "2023-06-24T18:10:29.124665Z",
     "shell.execute_reply": "2023-06-24T18:10:29.123565Z"
    },
    "papermill": {
     "duration": 0.239649,
     "end_time": "2023-06-24T18:10:29.126600",
     "exception": false,
     "start_time": "2023-06-24T18:10:28.886951",
     "status": "completed"
    },
    "tags": []
   },
   "outputs": [
    {
     "data": {
      "text/plain": [
       "StockCode      541909\n",
       "Description    540455\n",
       "Quantity       541909\n",
       "InvoiceDate    541909\n",
       "UnitPrice      541909\n",
       "CustomerID     406829\n",
       "Country        541909\n",
       "dtype: int64"
      ]
     },
     "execution_count": 7,
     "metadata": {},
     "output_type": "execute_result"
    }
   ],
   "source": [
    "df.count()"
   ]
  },
  {
   "cell_type": "code",
   "execution_count": 8,
   "id": "24a6d16c",
   "metadata": {
    "execution": {
     "iopub.execute_input": "2023-06-24T18:10:29.146139Z",
     "iopub.status.busy": "2023-06-24T18:10:29.145828Z",
     "iopub.status.idle": "2023-06-24T18:10:29.375401Z",
     "shell.execute_reply": "2023-06-24T18:10:29.374784Z"
    },
    "papermill": {
     "duration": 0.241335,
     "end_time": "2023-06-24T18:10:29.377087",
     "exception": false,
     "start_time": "2023-06-24T18:10:29.135752",
     "status": "completed"
    },
    "tags": []
   },
   "outputs": [
    {
     "data": {
      "text/html": [
       "<div>\n",
       "<style scoped>\n",
       "    .dataframe tbody tr th:only-of-type {\n",
       "        vertical-align: middle;\n",
       "    }\n",
       "\n",
       "    .dataframe tbody tr th {\n",
       "        vertical-align: top;\n",
       "    }\n",
       "\n",
       "    .dataframe thead th {\n",
       "        text-align: right;\n",
       "    }\n",
       "</style>\n",
       "<table border=\"1\" class=\"dataframe\">\n",
       "  <thead>\n",
       "    <tr style=\"text-align: right;\">\n",
       "      <th></th>\n",
       "      <th>StockCode</th>\n",
       "      <th>Description</th>\n",
       "      <th>Quantity</th>\n",
       "      <th>InvoiceDate</th>\n",
       "      <th>UnitPrice</th>\n",
       "      <th>CustomerID</th>\n",
       "      <th>Country</th>\n",
       "    </tr>\n",
       "  </thead>\n",
       "  <tbody>\n",
       "    <tr>\n",
       "      <th>0</th>\n",
       "      <td>85123A</td>\n",
       "      <td>WHITE HANGING HEART T-LIGHT HOLDER</td>\n",
       "      <td>6</td>\n",
       "      <td>2010-12-01 08:26:00</td>\n",
       "      <td>2.55</td>\n",
       "      <td>17850.0</td>\n",
       "      <td>United Kingdom</td>\n",
       "    </tr>\n",
       "    <tr>\n",
       "      <th>1</th>\n",
       "      <td>71053</td>\n",
       "      <td>WHITE METAL LANTERN</td>\n",
       "      <td>6</td>\n",
       "      <td>2010-12-01 08:26:00</td>\n",
       "      <td>3.39</td>\n",
       "      <td>17850.0</td>\n",
       "      <td>United Kingdom</td>\n",
       "    </tr>\n",
       "    <tr>\n",
       "      <th>2</th>\n",
       "      <td>84406B</td>\n",
       "      <td>CREAM CUPID HEARTS COAT HANGER</td>\n",
       "      <td>8</td>\n",
       "      <td>2010-12-01 08:26:00</td>\n",
       "      <td>2.75</td>\n",
       "      <td>17850.0</td>\n",
       "      <td>United Kingdom</td>\n",
       "    </tr>\n",
       "  </tbody>\n",
       "</table>\n",
       "</div>"
      ],
      "text/plain": [
       "  StockCode                         Description  Quantity         InvoiceDate  \\\n",
       "0    85123A  WHITE HANGING HEART T-LIGHT HOLDER         6 2010-12-01 08:26:00   \n",
       "1     71053                 WHITE METAL LANTERN         6 2010-12-01 08:26:00   \n",
       "2    84406B      CREAM CUPID HEARTS COAT HANGER         8 2010-12-01 08:26:00   \n",
       "\n",
       "   UnitPrice  CustomerID         Country  \n",
       "0       2.55     17850.0  United Kingdom  \n",
       "1       3.39     17850.0  United Kingdom  \n",
       "2       2.75     17850.0  United Kingdom  "
      ]
     },
     "execution_count": 8,
     "metadata": {},
     "output_type": "execute_result"
    }
   ],
   "source": [
    "df = df.drop_duplicates()\n",
    "df.head(3)"
   ]
  },
  {
   "cell_type": "code",
   "execution_count": 9,
   "id": "666024db",
   "metadata": {
    "execution": {
     "iopub.execute_input": "2023-06-24T18:10:29.398959Z",
     "iopub.status.busy": "2023-06-24T18:10:29.397683Z",
     "iopub.status.idle": "2023-06-24T18:10:29.616739Z",
     "shell.execute_reply": "2023-06-24T18:10:29.615552Z"
    },
    "papermill": {
     "duration": 0.232059,
     "end_time": "2023-06-24T18:10:29.618574",
     "exception": false,
     "start_time": "2023-06-24T18:10:29.386515",
     "status": "completed"
    },
    "tags": []
   },
   "outputs": [
    {
     "data": {
      "text/plain": [
       "StockCode      536061\n",
       "Description    534608\n",
       "Quantity       536061\n",
       "InvoiceDate    536061\n",
       "UnitPrice      536061\n",
       "CustomerID     401564\n",
       "Country        536061\n",
       "dtype: int64"
      ]
     },
     "execution_count": 9,
     "metadata": {},
     "output_type": "execute_result"
    }
   ],
   "source": [
    "df.count()"
   ]
  },
  {
   "cell_type": "markdown",
   "id": "04763128",
   "metadata": {
    "papermill": {
     "duration": 0.009114,
     "end_time": "2023-06-24T18:10:29.637298",
     "exception": false,
     "start_time": "2023-06-24T18:10:29.628184",
     "status": "completed"
    },
    "tags": []
   },
   "source": [
    "#### Remove null"
   ]
  },
  {
   "cell_type": "code",
   "execution_count": 10,
   "id": "d1c2a3db",
   "metadata": {
    "execution": {
     "iopub.execute_input": "2023-06-24T18:10:29.658494Z",
     "iopub.status.busy": "2023-06-24T18:10:29.658159Z",
     "iopub.status.idle": "2023-06-24T18:10:29.887677Z",
     "shell.execute_reply": "2023-06-24T18:10:29.886455Z"
    },
    "papermill": {
     "duration": 0.24236,
     "end_time": "2023-06-24T18:10:29.889586",
     "exception": false,
     "start_time": "2023-06-24T18:10:29.647226",
     "status": "completed"
    },
    "tags": []
   },
   "outputs": [
    {
     "name": "stdout",
     "output_type": "stream",
     "text": [
      "StockCode           0\n",
      "Description      1453\n",
      "Quantity            0\n",
      "InvoiceDate         0\n",
      "UnitPrice           0\n",
      "CustomerID     134497\n",
      "Country             0\n",
      "dtype: int64\n"
     ]
    }
   ],
   "source": [
    "print(df.isnull().sum())"
   ]
  },
  {
   "cell_type": "code",
   "execution_count": 11,
   "id": "96876944",
   "metadata": {
    "execution": {
     "iopub.execute_input": "2023-06-24T18:10:29.909514Z",
     "iopub.status.busy": "2023-06-24T18:10:29.909194Z",
     "iopub.status.idle": "2023-06-24T18:10:30.314053Z",
     "shell.execute_reply": "2023-06-24T18:10:30.312910Z"
    },
    "papermill": {
     "duration": 0.417005,
     "end_time": "2023-06-24T18:10:30.316051",
     "exception": false,
     "start_time": "2023-06-24T18:10:29.899046",
     "status": "completed"
    },
    "tags": []
   },
   "outputs": [
    {
     "data": {
      "text/plain": [
       "StockCode      401564\n",
       "Description    401564\n",
       "Quantity       401564\n",
       "InvoiceDate    401564\n",
       "UnitPrice      401564\n",
       "CustomerID     401564\n",
       "Country        401564\n",
       "dtype: int64"
      ]
     },
     "execution_count": 11,
     "metadata": {},
     "output_type": "execute_result"
    }
   ],
   "source": [
    "df = df.dropna()\n",
    "df.count()"
   ]
  },
  {
   "cell_type": "markdown",
   "id": "5d4252d9",
   "metadata": {
    "papermill": {
     "duration": 0.008911,
     "end_time": "2023-06-24T18:10:30.334686",
     "exception": false,
     "start_time": "2023-06-24T18:10:30.325775",
     "status": "completed"
    },
    "tags": []
   },
   "source": [
    "#### Detect outliers"
   ]
  },
  {
   "cell_type": "code",
   "execution_count": 12,
   "id": "76f77651",
   "metadata": {
    "execution": {
     "iopub.execute_input": "2023-06-24T18:10:30.354861Z",
     "iopub.status.busy": "2023-06-24T18:10:30.354457Z",
     "iopub.status.idle": "2023-06-24T18:10:30.635358Z",
     "shell.execute_reply": "2023-06-24T18:10:30.634417Z"
    },
    "papermill": {
     "duration": 0.293585,
     "end_time": "2023-06-24T18:10:30.637434",
     "exception": false,
     "start_time": "2023-06-24T18:10:30.343849",
     "status": "completed"
    },
    "tags": []
   },
   "outputs": [
    {
     "data": {
      "image/png": "[encoded data removed]",
      "text/plain": [
       "<Figure size 640x480 with 1 Axes>"
      ]
     },
     "metadata": {},
     "output_type": "display_data"
    }
   ],
   "source": [
    "sns.boxplot(x=df['Quantity'])\n",
    "plt.xlabel('Quantity')\n",
    "plt.title('Box Plot of Quantity')\n",
    "plt.show()"
   ]
  },
  {
   "cell_type": "code",
   "execution_count": 13,
   "id": "5b0060f6",
   "metadata": {
    "execution": {
     "iopub.execute_input": "2023-06-24T18:10:30.659183Z",
     "iopub.status.busy": "2023-06-24T18:10:30.658847Z",
     "iopub.status.idle": "2023-06-24T18:10:30.697284Z",
     "shell.execute_reply": "2023-06-24T18:10:30.696077Z"
    },
    "papermill": {
     "duration": 0.052286,
     "end_time": "2023-06-24T18:10:30.699502",
     "exception": false,
     "start_time": "2023-06-24T18:10:30.647216",
     "status": "completed"
    },
    "tags": []
   },
   "outputs": [],
   "source": [
    "# Replace negative values with NaN\n",
    "df.loc[df['Quantity'] < 0, 'Quantity'] = np.nan\n",
    "\n",
    "# Drop rows with NaN values in the column\n",
    "df = df.dropna(subset=['Quantity'])"
   ]
  },
  {
   "cell_type": "code",
   "execution_count": 14,
   "id": "e3fc52d5",
   "metadata": {
    "execution": {
     "iopub.execute_input": "2023-06-24T18:10:30.720869Z",
     "iopub.status.busy": "2023-06-24T18:10:30.720514Z",
     "iopub.status.idle": "2023-06-24T18:10:30.975196Z",
     "shell.execute_reply": "2023-06-24T18:10:30.974144Z"
    },
    "papermill": {
     "duration": 0.267861,
     "end_time": "2023-06-24T18:10:30.977576",
     "exception": false,
     "start_time": "2023-06-24T18:10:30.709715",
     "status": "completed"
    },
    "tags": []
   },
   "outputs": [
    {
     "data": {
      "image/png": "[encoded data removed]",
      "text/plain": [
       "<Figure size 640x480 with 1 Axes>"
      ]
     },
     "metadata": {},
     "output_type": "display_data"
    }
   ],
   "source": [
    "sns.boxplot(x=df['Quantity'])\n",
    "plt.xlabel('Quantity')\n",
    "plt.title('Box Plot of Quantity')\n",
    "plt.show()"
   ]
  },
  {
   "cell_type": "code",
   "execution_count": 15,
   "id": "bf1ea1c5",
   "metadata": {
    "execution": {
     "iopub.execute_input": "2023-06-24T18:10:30.999710Z",
     "iopub.status.busy": "2023-06-24T18:10:30.998912Z",
     "iopub.status.idle": "2023-06-24T18:10:31.259487Z",
     "shell.execute_reply": "2023-06-24T18:10:31.258899Z"
    },
    "papermill": {
     "duration": 0.273203,
     "end_time": "2023-06-24T18:10:31.261115",
     "exception": false,
     "start_time": "2023-06-24T18:10:30.987912",
     "status": "completed"
    },
    "tags": []
   },
   "outputs": [
    {
     "data": {
      "image/png": "[encoded data removed]",
      "text/plain": [
       "<Figure size 640x480 with 1 Axes>"
      ]
     },
     "metadata": {},
     "output_type": "display_data"
    }
   ],
   "source": [
    "sns.boxplot(x=df['UnitPrice'])\n",
    "plt.xlabel('UnitPrice')\n",
    "plt.title('Box Plot of UnitPrice')\n",
    "plt.show()\n"
   ]
  },
  {
   "cell_type": "code",
   "execution_count": 16,
   "id": "d76443a4",
   "metadata": {
    "execution": {
     "iopub.execute_input": "2023-06-24T18:10:31.283150Z",
     "iopub.status.busy": "2023-06-24T18:10:31.282256Z",
     "iopub.status.idle": "2023-06-24T18:10:31.341481Z",
     "shell.execute_reply": "2023-06-24T18:10:31.340171Z"
    },
    "papermill": {
     "duration": 0.072153,
     "end_time": "2023-06-24T18:10:31.343408",
     "exception": false,
     "start_time": "2023-06-24T18:10:31.271255",
     "status": "completed"
    },
    "tags": []
   },
   "outputs": [
    {
     "name": "stdout",
     "output_type": "stream",
     "text": [
      "Quantity        10.0\n",
      "UnitPrice        2.5\n",
      "CustomerID    2836.0\n",
      "dtype: float64\n"
     ]
    },
    {
     "name": "stderr",
     "output_type": "stream",
     "text": [
      "/tmp/ipykernel_20/4249959737.py:1: FutureWarning: The default value of numeric_only in DataFrame.quantile is deprecated. In a future version, it will default to False. Select only valid columns or specify the value of numeric_only to silence this warning.\n",
      "  Q1 = df.quantile(0.25)\n",
      "/tmp/ipykernel_20/4249959737.py:2: FutureWarning: The default value of numeric_only in DataFrame.quantile is deprecated. In a future version, it will default to False. Select only valid columns or specify the value of numeric_only to silence this warning.\n",
      "  Q3 = df.quantile(0.75)\n"
     ]
    }
   ],
   "source": [
    "Q1 = df.quantile(0.25)\n",
    "Q3 = df.quantile(0.75)\n",
    "IQR = Q3 - Q1\n",
    "print(IQR)"
   ]
  },
  {
   "cell_type": "code",
   "execution_count": 17,
   "id": "5ecf7b38",
   "metadata": {
    "execution": {
     "iopub.execute_input": "2023-06-24T18:10:31.365085Z",
     "iopub.status.busy": "2023-06-24T18:10:31.364774Z",
     "iopub.status.idle": "2023-06-24T18:10:31.417699Z",
     "shell.execute_reply": "2023-06-24T18:10:31.416608Z"
    },
    "papermill": {
     "duration": 0.066389,
     "end_time": "2023-06-24T18:10:31.420107",
     "exception": false,
     "start_time": "2023-06-24T18:10:31.353718",
     "status": "completed"
    },
    "tags": []
   },
   "outputs": [],
   "source": [
    "# Remove outliers based on column1\n",
    "df = df[(df['Quantity'] >= Q1['Quantity'] - 1.5 * IQR['Quantity']) & (df['Quantity'] <= Q3['Quantity'] + 1.5 * IQR['Quantity'])]\n",
    "\n",
    "# Remove outliers based on column2\n",
    "df = df[(df['UnitPrice'] >= Q1['UnitPrice'] - 1.5 * IQR['UnitPrice']) & (df['UnitPrice'] <= Q3['UnitPrice'] + 1.5 * IQR['UnitPrice'])]\n"
   ]
  },
  {
   "cell_type": "code",
   "execution_count": 18,
   "id": "a3e4f970",
   "metadata": {
    "execution": {
     "iopub.execute_input": "2023-06-24T18:10:31.441775Z",
     "iopub.status.busy": "2023-06-24T18:10:31.441436Z",
     "iopub.status.idle": "2023-06-24T18:10:31.446969Z",
     "shell.execute_reply": "2023-06-24T18:10:31.445839Z"
    },
    "papermill": {
     "duration": 0.018373,
     "end_time": "2023-06-24T18:10:31.448608",
     "exception": false,
     "start_time": "2023-06-24T18:10:31.430235",
     "status": "completed"
    },
    "tags": []
   },
   "outputs": [
    {
     "data": {
      "text/plain": [
       "(333233, 7)"
      ]
     },
     "execution_count": 18,
     "metadata": {},
     "output_type": "execute_result"
    }
   ],
   "source": [
    "df.shape"
   ]
  },
  {
   "cell_type": "markdown",
   "id": "079a1358",
   "metadata": {
    "papermill": {
     "duration": 0.009943,
     "end_time": "2023-06-24T18:10:31.468759",
     "exception": false,
     "start_time": "2023-06-24T18:10:31.458816",
     "status": "completed"
    },
    "tags": []
   },
   "source": [
    "#### Basic Statistics"
   ]
  },
  {
   "cell_type": "code",
   "execution_count": 19,
   "id": "02e35626",
   "metadata": {
    "execution": {
     "iopub.execute_input": "2023-06-24T18:10:31.490727Z",
     "iopub.status.busy": "2023-06-24T18:10:31.490182Z",
     "iopub.status.idle": "2023-06-24T18:10:31.511258Z",
     "shell.execute_reply": "2023-06-24T18:10:31.509901Z"
    },
    "papermill": {
     "duration": 0.034168,
     "end_time": "2023-06-24T18:10:31.513088",
     "exception": false,
     "start_time": "2023-06-24T18:10:31.478920",
     "status": "completed"
    },
    "tags": []
   },
   "outputs": [
    {
     "name": "stdout",
     "output_type": "stream",
     "text": [
      "Central Tendency:\n",
      "Mean: 7.550767781102111\n",
      "Median: 6.0\n",
      "Mode: 12.0\n",
      "\n",
      "Dispersion:\n",
      "Standard Deviation: 6.777345912165323\n",
      "Range: 26.0\n"
     ]
    }
   ],
   "source": [
    "# Calculate the central tendency measures - Quantity\n",
    "mean_value = df['Quantity'].mean()\n",
    "median_value = df['Quantity'].median()\n",
    "mode_value = df['Quantity'].mode().values[0]  # Mode can have multiple values, so taking the first one\n",
    "\n",
    "# Calculate the dispersion measures\n",
    "std_dev = df['Quantity'].std()\n",
    "range_value = df['Quantity'].max() - df['Quantity'].min()\n",
    "\n",
    "# Print the results\n",
    "print(\"Central Tendency:\")\n",
    "print(\"Mean:\", mean_value)\n",
    "print(\"Median:\", median_value)\n",
    "print(\"Mode:\", mode_value)\n",
    "\n",
    "print(\"\\nDispersion:\")\n",
    "print(\"Standard Deviation:\", std_dev)\n",
    "print(\"Range:\", range_value)"
   ]
  },
  {
   "cell_type": "code",
   "execution_count": 20,
   "id": "ff8c9d1e",
   "metadata": {
    "execution": {
     "iopub.execute_input": "2023-06-24T18:10:31.537244Z",
     "iopub.status.busy": "2023-06-24T18:10:31.536824Z",
     "iopub.status.idle": "2023-06-24T18:10:31.556584Z",
     "shell.execute_reply": "2023-06-24T18:10:31.555876Z"
    },
    "papermill": {
     "duration": 0.03392,
     "end_time": "2023-06-24T18:10:31.558306",
     "exception": false,
     "start_time": "2023-06-24T18:10:31.524386",
     "status": "completed"
    },
    "tags": []
   },
   "outputs": [
    {
     "name": "stdout",
     "output_type": "stream",
     "text": [
      "Central Tendency:\n",
      "Mean: 2.194046910119946\n",
      "Median: 1.65\n",
      "Mode: 1.25\n",
      "\n",
      "Dispersion:\n",
      "Standard Deviation: 1.546119874863203\n",
      "Range: 7.5\n"
     ]
    }
   ],
   "source": [
    "# Calculate the central tendency measures - UnitPrice\n",
    "mean_value = df['UnitPrice'].mean()\n",
    "median_value = df['UnitPrice'].median()\n",
    "mode_value = df['UnitPrice'].mode().values[0]  # Mode can have multiple values, so taking the first one\n",
    "\n",
    "# Calculate the dispersion measures\n",
    "std_dev = df['UnitPrice'].std()\n",
    "range_value = df['UnitPrice'].max() - df['UnitPrice'].min()\n",
    "\n",
    "# Print the results\n",
    "print(\"Central Tendency:\")\n",
    "print(\"Mean:\", mean_value)\n",
    "print(\"Median:\", median_value)\n",
    "print(\"Mode:\", mode_value)\n",
    "\n",
    "print(\"\\nDispersion:\")\n",
    "print(\"Standard Deviation:\", std_dev)\n",
    "print(\"Range:\", range_value)"
   ]
  },
  {
   "cell_type": "markdown",
   "id": "49e28298",
   "metadata": {
    "papermill": {
     "duration": 0.01108,
     "end_time": "2023-06-24T18:10:31.580169",
     "exception": false,
     "start_time": "2023-06-24T18:10:31.569089",
     "status": "completed"
    },
    "tags": []
   },
   "source": [
    "### Visualisations"
   ]
  },
  {
   "cell_type": "markdown",
   "id": "105ab74e",
   "metadata": {
    "papermill": {
     "duration": 0.010703,
     "end_time": "2023-06-24T18:10:31.601367",
     "exception": false,
     "start_time": "2023-06-24T18:10:31.590664",
     "status": "completed"
    },
    "tags": []
   },
   "source": [
    "most bought Quantities"
   ]
  },
  {
   "cell_type": "code",
   "execution_count": 21,
   "id": "2358820c",
   "metadata": {
    "execution": {
     "iopub.execute_input": "2023-06-24T18:10:31.624605Z",
     "iopub.status.busy": "2023-06-24T18:10:31.624251Z",
     "iopub.status.idle": "2023-06-24T18:10:31.974281Z",
     "shell.execute_reply": "2023-06-24T18:10:31.972887Z"
    },
    "papermill": {
     "duration": 0.363933,
     "end_time": "2023-06-24T18:10:31.976730",
     "exception": false,
     "start_time": "2023-06-24T18:10:31.612797",
     "status": "completed"
    },
    "tags": []
   },
   "outputs": [
    {
     "data": {
      "image/png": "[encoded data removed]",
      "text/plain": [
       "<Figure size 640x480 with 1 Axes>"
      ]
     },
     "metadata": {},
     "output_type": "display_data"
    }
   ],
   "source": [
    "plot = sns.histplot(data=df, x='Quantity', bins=20)\n",
    "plt.xlabel('Quantity')\n",
    "plt.ylabel('Frequency')\n",
    "plt.title('Histogram of Quantity')\n",
    "plt.show()"
   ]
  },
  {
   "cell_type": "markdown",
   "id": "9c227a20",
   "metadata": {
    "papermill": {
     "duration": 0.010512,
     "end_time": "2023-06-24T18:10:31.999031",
     "exception": false,
     "start_time": "2023-06-24T18:10:31.988519",
     "status": "completed"
    },
    "tags": []
   },
   "source": [
    "Most Bought unitprice"
   ]
  },
  {
   "cell_type": "code",
   "execution_count": 22,
   "id": "4dd69666",
   "metadata": {
    "execution": {
     "iopub.execute_input": "2023-06-24T18:10:32.023280Z",
     "iopub.status.busy": "2023-06-24T18:10:32.022931Z",
     "iopub.status.idle": "2023-06-24T18:10:32.365508Z",
     "shell.execute_reply": "2023-06-24T18:10:32.364868Z"
    },
    "papermill": {
     "duration": 0.357636,
     "end_time": "2023-06-24T18:10:32.367605",
     "exception": false,
     "start_time": "2023-06-24T18:10:32.009969",
     "status": "completed"
    },
    "tags": []
   },
   "outputs": [
    {
     "data": {
      "image/png": "[encoded data removed]",
      "text/plain": [
       "<Figure size 640x480 with 1 Axes>"
      ]
     },
     "metadata": {},
     "output_type": "display_data"
    }
   ],
   "source": [
    "plot= sns.histplot(data=df, y='UnitPrice', bins=20)\n",
    "plt.ylabel('UnitPrice')\n",
    "plt.xlabel('Frequency')\n",
    "plt.title('Histogram of UnitPrice')\n",
    "plt.show()"
   ]
  },
  {
   "cell_type": "markdown",
   "id": "30284d5c",
   "metadata": {
    "papermill": {
     "duration": 0.01075,
     "end_time": "2023-06-24T18:10:32.390320",
     "exception": false,
     "start_time": "2023-06-24T18:10:32.379570",
     "status": "completed"
    },
    "tags": []
   },
   "source": [
    "Most Bought items"
   ]
  },
  {
   "cell_type": "code",
   "execution_count": 23,
   "id": "5e85d19c",
   "metadata": {
    "execution": {
     "iopub.execute_input": "2023-06-24T18:10:32.414276Z",
     "iopub.status.busy": "2023-06-24T18:10:32.413946Z",
     "iopub.status.idle": "2023-06-24T18:10:32.954287Z",
     "shell.execute_reply": "2023-06-24T18:10:32.953191Z"
    },
    "papermill": {
     "duration": 0.554984,
     "end_time": "2023-06-24T18:10:32.955962",
     "exception": false,
     "start_time": "2023-06-24T18:10:32.400978",
     "status": "completed"
    },
    "tags": []
   },
   "outputs": [
    {
     "data": {
      "image/png": "[encoded data removed]",
      "text/plain": [
       "<Figure size 640x480 with 1 Axes>"
      ]
     },
     "metadata": {},
     "output_type": "display_data"
    }
   ],
   "source": [
    "df['StockCode'] = pd.to_numeric(df['StockCode'], errors='coerce').astype(float)\n",
    "\n",
    "sns.histplot(data=df, x='StockCode', bins=50)\n",
    "plt.xlabel('StockCode')\n",
    "plt.ylabel('Frequency')\n",
    "plt.title('Histogram of StockCode')\n",
    "plt.show()"
   ]
  },
  {
   "cell_type": "markdown",
   "id": "253e8a38",
   "metadata": {
    "papermill": {
     "duration": 0.010831,
     "end_time": "2023-06-24T18:10:32.978262",
     "exception": false,
     "start_time": "2023-06-24T18:10:32.967431",
     "status": "completed"
    },
    "tags": []
   },
   "source": [
    "#### Seasonal Data visualization"
   ]
  },
  {
   "cell_type": "code",
   "execution_count": 24,
   "id": "4419fb5a",
   "metadata": {
    "execution": {
     "iopub.execute_input": "2023-06-24T18:10:33.002395Z",
     "iopub.status.busy": "2023-06-24T18:10:33.002018Z",
     "iopub.status.idle": "2023-06-24T18:10:33.031414Z",
     "shell.execute_reply": "2023-06-24T18:10:33.030554Z"
    },
    "papermill": {
     "duration": 0.043943,
     "end_time": "2023-06-24T18:10:33.033285",
     "exception": false,
     "start_time": "2023-06-24T18:10:32.989342",
     "status": "completed"
    },
    "tags": []
   },
   "outputs": [
    {
     "data": {
      "text/html": [
       "<div>\n",
       "<style scoped>\n",
       "    .dataframe tbody tr th:only-of-type {\n",
       "        vertical-align: middle;\n",
       "    }\n",
       "\n",
       "    .dataframe tbody tr th {\n",
       "        vertical-align: top;\n",
       "    }\n",
       "\n",
       "    .dataframe thead th {\n",
       "        text-align: right;\n",
       "    }\n",
       "</style>\n",
       "<table border=\"1\" class=\"dataframe\">\n",
       "  <thead>\n",
       "    <tr style=\"text-align: right;\">\n",
       "      <th></th>\n",
       "      <th>StockCode</th>\n",
       "      <th>Description</th>\n",
       "      <th>Quantity</th>\n",
       "      <th>InvoiceDate</th>\n",
       "      <th>UnitPrice</th>\n",
       "      <th>CustomerID</th>\n",
       "      <th>Country</th>\n",
       "    </tr>\n",
       "  </thead>\n",
       "  <tbody>\n",
       "    <tr>\n",
       "      <th>0</th>\n",
       "      <td>NaN</td>\n",
       "      <td>WHITE HANGING HEART T-LIGHT HOLDER</td>\n",
       "      <td>6.0</td>\n",
       "      <td>2010-12-01 08:26:00</td>\n",
       "      <td>2.55</td>\n",
       "      <td>17850.0</td>\n",
       "      <td>United Kingdom</td>\n",
       "    </tr>\n",
       "    <tr>\n",
       "      <th>1</th>\n",
       "      <td>71053.0</td>\n",
       "      <td>WHITE METAL LANTERN</td>\n",
       "      <td>6.0</td>\n",
       "      <td>2010-12-01 08:26:00</td>\n",
       "      <td>3.39</td>\n",
       "      <td>17850.0</td>\n",
       "      <td>United Kingdom</td>\n",
       "    </tr>\n",
       "    <tr>\n",
       "      <th>2</th>\n",
       "      <td>NaN</td>\n",
       "      <td>CREAM CUPID HEARTS COAT HANGER</td>\n",
       "      <td>8.0</td>\n",
       "      <td>2010-12-01 08:26:00</td>\n",
       "      <td>2.75</td>\n",
       "      <td>17850.0</td>\n",
       "      <td>United Kingdom</td>\n",
       "    </tr>\n",
       "  </tbody>\n",
       "</table>\n",
       "</div>"
      ],
      "text/plain": [
       "   StockCode                         Description  Quantity  \\\n",
       "0        NaN  WHITE HANGING HEART T-LIGHT HOLDER       6.0   \n",
       "1    71053.0                 WHITE METAL LANTERN       6.0   \n",
       "2        NaN      CREAM CUPID HEARTS COAT HANGER       8.0   \n",
       "\n",
       "          InvoiceDate  UnitPrice  CustomerID         Country  \n",
       "0 2010-12-01 08:26:00       2.55     17850.0  United Kingdom  \n",
       "1 2010-12-01 08:26:00       3.39     17850.0  United Kingdom  \n",
       "2 2010-12-01 08:26:00       2.75     17850.0  United Kingdom  "
      ]
     },
     "execution_count": 24,
     "metadata": {},
     "output_type": "execute_result"
    }
   ],
   "source": [
    "df['InvoiceDate'] = pd.to_datetime(df['InvoiceDate'])  # Convert InvoiceDate to datetime if not already done\n",
    "df.head(3)"
   ]
  },
  {
   "cell_type": "code",
   "execution_count": 25,
   "id": "da2c0499",
   "metadata": {
    "execution": {
     "iopub.execute_input": "2023-06-24T18:10:33.058964Z",
     "iopub.status.busy": "2023-06-24T18:10:33.058529Z",
     "iopub.status.idle": "2023-06-24T18:10:33.062380Z",
     "shell.execute_reply": "2023-06-24T18:10:33.061544Z"
    },
    "papermill": {
     "duration": 0.018651,
     "end_time": "2023-06-24T18:10:33.064137",
     "exception": false,
     "start_time": "2023-06-24T18:10:33.045486",
     "status": "completed"
    },
    "tags": []
   },
   "outputs": [],
   "source": [
    "#sns.lineplot(data=df, x='InvoiceDate', y='Quantity')\n",
    "#plt.xlabel('Invoice Date')\n",
    "#plt.ylabel('Quantity')\n",
    "#plt.title('Quantity over Time')\n",
    "#plt.xticks(rotation=45)\n",
    "#plt.show()"
   ]
  },
  {
   "cell_type": "code",
   "execution_count": 26,
   "id": "becdb9a0",
   "metadata": {
    "execution": {
     "iopub.execute_input": "2023-06-24T18:10:33.089292Z",
     "iopub.status.busy": "2023-06-24T18:10:33.088388Z",
     "iopub.status.idle": "2023-06-24T18:10:33.092508Z",
     "shell.execute_reply": "2023-06-24T18:10:33.091925Z"
    },
    "papermill": {
     "duration": 0.018417,
     "end_time": "2023-06-24T18:10:33.094233",
     "exception": false,
     "start_time": "2023-06-24T18:10:33.075816",
     "status": "completed"
    },
    "tags": []
   },
   "outputs": [],
   "source": [
    "#sns.lineplot(data=df, x='InvoiceDate', y='UnitPrice')\n",
    "#plt.xlabel('Invoice Date')\n",
    "#plt.ylabel('UnitPrice')\n",
    "#plt.title('UnitPrice over Time')\n",
    "#plt.xticks(rotation=45)\n",
    "#plt.show()"
   ]
  },
  {
   "cell_type": "markdown",
   "id": "edcb3744",
   "metadata": {
    "papermill": {
     "duration": 0.011521,
     "end_time": "2023-06-24T18:10:33.117454",
     "exception": false,
     "start_time": "2023-06-24T18:10:33.105933",
     "status": "completed"
    },
    "tags": []
   },
   "source": [
    "Correlation b/w Quantity and Unit price"
   ]
  },
  {
   "cell_type": "code",
   "execution_count": 27,
   "id": "2646c10c",
   "metadata": {
    "execution": {
     "iopub.execute_input": "2023-06-24T18:10:33.142886Z",
     "iopub.status.busy": "2023-06-24T18:10:33.142476Z",
     "iopub.status.idle": "2023-06-24T18:10:33.146515Z",
     "shell.execute_reply": "2023-06-24T18:10:33.145788Z"
    },
    "papermill": {
     "duration": 0.018889,
     "end_time": "2023-06-24T18:10:33.148307",
     "exception": false,
     "start_time": "2023-06-24T18:10:33.129418",
     "status": "completed"
    },
    "tags": []
   },
   "outputs": [],
   "source": [
    "#sns.scatterplot(data=df, x='Quantity', y='UnitPrice')\n",
    "#plt.xlabel('Quantity')\n",
    "#plt.ylabel('Unit Price')\n",
    "#plt.title('Scatter Plot of Quantity vs. Unit Price')\n",
    "#plt.show()\n"
   ]
  },
  {
   "cell_type": "markdown",
   "id": "35ac8c88",
   "metadata": {
    "papermill": {
     "duration": 0.011343,
     "end_time": "2023-06-24T18:10:33.171675",
     "exception": false,
     "start_time": "2023-06-24T18:10:33.160332",
     "status": "completed"
    },
    "tags": []
   },
   "source": [
    "Top 10 days of the Year"
   ]
  },
  {
   "cell_type": "code",
   "execution_count": 28,
   "id": "9762a792",
   "metadata": {
    "execution": {
     "iopub.execute_input": "2023-06-24T18:10:33.197157Z",
     "iopub.status.busy": "2023-06-24T18:10:33.196809Z",
     "iopub.status.idle": "2023-06-24T18:10:33.297987Z",
     "shell.execute_reply": "2023-06-24T18:10:33.296347Z"
    },
    "papermill": {
     "duration": 0.117088,
     "end_time": "2023-06-24T18:10:33.300447",
     "exception": false,
     "start_time": "2023-06-24T18:10:33.183359",
     "status": "completed"
    },
    "tags": []
   },
   "outputs": [
    {
     "name": "stdout",
     "output_type": "stream",
     "text": [
      "2011-11-06    3007\n",
      "2011-12-05    2914\n",
      "2011-11-20    2733\n",
      "2011-11-23    2700\n",
      "2011-11-10    2643\n",
      "2011-10-30    2582\n",
      "2011-11-17    2572\n",
      "2011-11-13    2481\n",
      "2011-11-14    2427\n",
      "2011-11-22    2416\n",
      "Name: Date, dtype: int64\n"
     ]
    }
   ],
   "source": [
    "df['Date'] = df['InvoiceDate'].dt.date\n",
    "top_10_days = df['Date'].value_counts().head(10)\n",
    "print(top_10_days)"
   ]
  },
  {
   "cell_type": "code",
   "execution_count": 29,
   "id": "b04dbbb8",
   "metadata": {
    "execution": {
     "iopub.execute_input": "2023-06-24T18:10:33.325407Z",
     "iopub.status.busy": "2023-06-24T18:10:33.325062Z",
     "iopub.status.idle": "2023-06-24T18:10:33.355948Z",
     "shell.execute_reply": "2023-06-24T18:10:33.354912Z"
    },
    "papermill": {
     "duration": 0.045216,
     "end_time": "2023-06-24T18:10:33.357615",
     "exception": false,
     "start_time": "2023-06-24T18:10:33.312399",
     "status": "completed"
    },
    "tags": []
   },
   "outputs": [
    {
     "name": "stdout",
     "output_type": "stream",
     "text": [
      "DayOfWeek\n",
      "4    8.265049\n",
      "3    8.163501\n",
      "2    7.958337\n",
      "Name: Quantity, dtype: float64\n",
      "Friday: 8.26504894586522\n",
      "Thursday: 8.163500801548652\n",
      "Wednesday: 7.9583370003344305\n"
     ]
    }
   ],
   "source": [
    "df['DayOfWeek'] = df['InvoiceDate'].dt.dayofweek\n",
    "average_values = df.groupby('DayOfWeek')['Quantity'].mean()\n",
    "sorted_values = average_values.sort_values(ascending=False)\n",
    "top_3_days = sorted_values.head(3)\n",
    "print(top_3_days)\n",
    "\n",
    "import calendar\n",
    "\n",
    "# Convert day numbers to day names\n",
    "top_3_days_names = top_3_days.index.map(lambda x: calendar.day_name[x])\n",
    "\n",
    "# Print the top 3 day with names\n",
    "for month_name, metric_value in zip(top_3_days_names, top_3_days):\n",
    "    print(f\"{month_name}: {metric_value}\")"
   ]
  },
  {
   "cell_type": "code",
   "execution_count": 30,
   "id": "4e662b3e",
   "metadata": {
    "execution": {
     "iopub.execute_input": "2023-06-24T18:10:33.383773Z",
     "iopub.status.busy": "2023-06-24T18:10:33.383405Z",
     "iopub.status.idle": "2023-06-24T18:10:33.422807Z",
     "shell.execute_reply": "2023-06-24T18:10:33.421828Z"
    },
    "papermill": {
     "duration": 0.054708,
     "end_time": "2023-06-24T18:10:33.424509",
     "exception": false,
     "start_time": "2023-06-24T18:10:33.369801",
     "status": "completed"
    },
    "tags": []
   },
   "outputs": [
    {
     "name": "stdout",
     "output_type": "stream",
     "text": [
      "Month\n",
      "11    371479.0\n",
      "10    302969.0\n",
      "9     282123.0\n",
      "Name: Quantity, dtype: float64\n",
      "November: 371479.0\n",
      "October: 302969.0\n",
      "September: 282123.0\n"
     ]
    }
   ],
   "source": [
    "import calendar\n",
    "\n",
    "df['InvoiceDate'] = pd.to_datetime(df['InvoiceDate'])\n",
    "df['Month'] = df['InvoiceDate'].dt.month\n",
    "\n",
    "monthly_metric = df.groupby('Month')['Quantity'].sum()  # or .mean()\n",
    "sorted_values = monthly_metric.sort_values(ascending=False)\n",
    "top_3_months = sorted_values.head(3)\n",
    "print(top_3_months)\n",
    "# Convert month numbers to month names\n",
    "top_3_months_names = [calendar.month_name[int(month)] for month in top_3_months.index]\n",
    "\n",
    "# Print the top 3 months with names\n",
    "for month_name, metric_value in zip(top_3_months_names, top_3_months):\n",
    "    print(f\"{month_name}: {metric_value}\")\n"
   ]
  },
  {
   "cell_type": "markdown",
   "id": "02409733",
   "metadata": {
    "papermill": {
     "duration": 0.011945,
     "end_time": "2023-06-24T18:10:33.449833",
     "exception": false,
     "start_time": "2023-06-24T18:10:33.437888",
     "status": "completed"
    },
    "tags": []
   },
   "source": [
    "Top  Countires"
   ]
  },
  {
   "cell_type": "code",
   "execution_count": 31,
   "id": "8bb1f969",
   "metadata": {
    "execution": {
     "iopub.execute_input": "2023-06-24T18:10:33.475480Z",
     "iopub.status.busy": "2023-06-24T18:10:33.475065Z",
     "iopub.status.idle": "2023-06-24T18:10:33.513636Z",
     "shell.execute_reply": "2023-06-24T18:10:33.512338Z"
    },
    "papermill": {
     "duration": 0.053819,
     "end_time": "2023-06-24T18:10:33.515590",
     "exception": false,
     "start_time": "2023-06-24T18:10:33.461771",
     "status": "completed"
    },
    "tags": []
   },
   "outputs": [
    {
     "name": "stdout",
     "output_type": "stream",
     "text": [
      "35    United Kingdom\n",
      "14           Germany\n",
      "13            France\n",
      "10              EIRE\n",
      "30             Spain\n",
      "32       Switzerland\n",
      "3            Belgium\n",
      "26          Portugal\n",
      "24            Norway\n",
      "23       Netherlands\n",
      "Name: Country, dtype: object\n"
     ]
    }
   ],
   "source": [
    "\n",
    "country_stats = df.groupby('Country').agg({'Quantity': 'sum', 'UnitPrice': 'mean'}).reset_index()\n",
    "\n",
    "top_10_quantity = country_stats.sort_values('Quantity', ascending=False).head(10)\n",
    "print(top_10_quantity['Country'])"
   ]
  },
  {
   "cell_type": "markdown",
   "id": "70d70bb2",
   "metadata": {
    "papermill": {
     "duration": 0.012596,
     "end_time": "2023-06-24T18:10:33.540516",
     "exception": false,
     "start_time": "2023-06-24T18:10:33.527920",
     "status": "completed"
    },
    "tags": []
   },
   "source": [
    "### Conclusion"
   ]
  },
  {
   "cell_type": "markdown",
   "id": "7a7e7271",
   "metadata": {
    "papermill": {
     "duration": 0.013575,
     "end_time": "2023-06-24T18:10:33.566690",
     "exception": false,
     "start_time": "2023-06-24T18:10:33.553115",
     "status": "completed"
    },
    "tags": []
   },
   "source": [
    "Based on the exploratory data analysis (EDA) conducted, the following conclusions and findings can be summarized:\n",
    "\n",
    "1. Quantity:\n",
    "   - Central Tendency: The mean quantity purchased is approximately 7.55, indicating the average quantity bought in transactions. The median quantity is 6, which suggests that half of the transactions involve quantities less than or equal to 6. The mode of 12 indicates that 12 is the most frequently occurring quantity.\n",
    "   - Dispersion: The standard deviation of approximately 6.78 indicates a moderate amount of variability in the quantity purchased. The range of 26 shows that the minimum and maximum quantities span a range of 26 units.\n",
    "\n",
    "2. Unit Price:\n",
    "   - Central Tendency: The mean unit price is approximately 2.19, indicating the average price of products in transactions. The median unit price is 1.65, which represents the middle value of unit prices. The mode of 1.25 suggests that 1.25 is the most frequently occurring unit price.\n",
    "   - Dispersion: The standard deviation of approximately 1.55 indicates some variability in unit prices. The range of 7.5 shows that the minimum and maximum unit prices differ by 7.5 units.\n",
    "\n",
    "3. Top 10 Days:\n",
    "   - The top 10 days with the highest number of transactions are listed, with the corresponding transaction counts for each day. These dates indicate the busiest days in terms of transaction volume.\n",
    "\n",
    "4. Top 3 Days of the Week on Average:\n",
    "   - The average quantity purchased for each day of the week is provided. The top 3 days with the highest average quantity are Friday (8.27), Thursday (8.16), and Wednesday (7.96). This suggests that these days have higher average transaction quantities compared to other days of the week.\n",
    "\n",
    "5. Top 3 Months:\n",
    "\n",
    "    - November: With a total quantity purchased of 371,479 units, November had the highest sales volume. It suggests that November is a crucial month for sales, possibly driven by events such as Black Friday and the holiday season.\n",
    "    - October: October had the second-highest total quantity purchased (302,969 units), indicating a significant amount of sales activity during this month.\n",
    "    - September: With a total quantity purchased of 282,123 units, September had the third-highest sales volume. It suggests that September is a busy month for sales, potentially driven by various factors like seasonal promotions or back-to-school shopping. \n",
    "6. Top 10 countries:\n",
    "    - United Kingdom\n",
    "    - Germany\n",
    "    - France\n",
    "    - EIRE\n",
    "    - Spain\n",
    "    - Switzerland\n",
    "    - Belgium\n",
    "    - Portugal\n",
    "    - Norway\n",
    "    - Netherlands\n",
    "\n"
   ]
  },
  {
   "cell_type": "code",
   "execution_count": null,
   "id": "d8aeb7f6",
   "metadata": {
    "papermill": {
     "duration": 0.011682,
     "end_time": "2023-06-24T18:10:33.590209",
     "exception": false,
     "start_time": "2023-06-24T18:10:33.578527",
     "status": "completed"
    },
    "tags": []
   },
   "outputs": [],
   "source": []
  }
 ],
 "metadata": {
  "kernelspec": {
   "display_name": "Python 3",
   "language": "python",
   "name": "python3"
  },
  "language_info": {
   "codemirror_mode": {
    "name": "ipython",
    "version": 3
   },
   "file_extension": ".py",
   "mimetype": "text/x-python",
   "name": "python",
   "nbconvert_exporter": "python",
   "pygments_lexer": "ipython3",
   "version": "3.10.10"
  },
  "papermill": {
   "default_parameters": {},
   "duration": 79.219196,
   "end_time": "2023-06-24T18:10:34.524239",
   "environment_variables": {},
   "exception": null,
   "input_path": "__notebook__.ipynb",
   "output_path": "__notebook__.ipynb",
   "parameters": {},
   "start_time": "2023-06-24T18:09:15.305043",
   "version": "2.4.0"
  }
 },
 "nbformat": 4,
 "nbformat_minor": 5
}
